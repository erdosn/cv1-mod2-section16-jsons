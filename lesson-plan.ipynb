{
 "cells": [
  {
   "cell_type": "markdown",
   "metadata": {},
   "source": [
    "### Questions\n",
    "* recursive functions\n",
    "    * how \n",
    "    * when\n",
    "* kotlin"
   ]
  },
  {
   "cell_type": "markdown",
   "metadata": {},
   "source": [
    "### Objectives\n",
    "* YWBAT parse a json file effectively"
   ]
  },
  {
   "cell_type": "markdown",
   "metadata": {},
   "source": [
    "### Outline\n",
    "* Questions\n",
    "* loading in jsons from mongo\n",
    "* using mongo db to access data and find insights on text data"
   ]
  },
  {
   "cell_type": "markdown",
   "metadata": {},
   "source": [
    "### What does noSQL mean?\n",
    "* no relational tables\n",
    "* in no sql, we lose structure and therefore lose joins\n",
    "\n",
    "\n",
    "### What is a json file\n",
    "* it's basically a dictionary, with some minor restraints"
   ]
  },
  {
   "cell_type": "markdown",
   "metadata": {},
   "source": [
    "# Loading in string as dict"
   ]
  },
  {
   "cell_type": "code",
   "execution_count": 27,
   "metadata": {},
   "outputs": [
    {
     "data": {
      "text/plain": [
       "'{\"key\":\"value\"}'"
      ]
     },
     "execution_count": 27,
     "metadata": {},
     "output_type": "execute_result"
    }
   ],
   "source": [
    "stringjson = '{\"key\":\"value\"}'\n",
    "stringjson"
   ]
  },
  {
   "cell_type": "code",
   "execution_count": 28,
   "metadata": {},
   "outputs": [
    {
     "data": {
      "text/plain": [
       "{'key': 'value'}"
      ]
     },
     "execution_count": 28,
     "metadata": {},
     "output_type": "execute_result"
    }
   ],
   "source": [
    "stringd = json.loads(stringjson)\n",
    "stringd"
   ]
  },
  {
   "cell_type": "markdown",
   "metadata": {},
   "source": [
    "# Loading json file as dict"
   ]
  },
  {
   "cell_type": "code",
   "execution_count": 8,
   "metadata": {},
   "outputs": [],
   "source": [
    "import json"
   ]
  },
  {
   "cell_type": "code",
   "execution_count": 22,
   "metadata": {},
   "outputs": [
    {
     "data": {
      "text/plain": [
       "{'key': 'value',\n",
       " 'key2': 'value2',\n",
       " 'students': [{'age': 28, 'name': 'Bryan DiCarlo', 'state': 'TX'},\n",
       "  {'age': 21, 'name': \"Jonathan Ericksen's\", 'state': 'not Tx'}]}"
      ]
     },
     "execution_count": 22,
     "metadata": {},
     "output_type": "execute_result"
    }
   ],
   "source": [
    "with open(\"/Users/rafael/file.json\") as f:\n",
    "    d = json.load(f)\n",
    "d"
   ]
  },
  {
   "cell_type": "markdown",
   "metadata": {},
   "source": [
    "### Installing Mongo on a Mac\n",
    "* install homebrew\n",
    "* brew install mongo\n",
    " \n",
    "* collections = tables\n",
    "* documents = rows"
   ]
  },
  {
   "cell_type": "code",
   "execution_count": 72,
   "metadata": {},
   "outputs": [],
   "source": [
    "import json\n",
    "import pandas as pd\n",
    "import numpy as np\n",
    "\n",
    "from pprint import pprint\n",
    "\n",
    "from textblob import TextBlob\n",
    "from pymongo import MongoClient\n",
    "from bs4 import BeautifulSoup\n",
    "\n",
    "import matplotlib.pyplot as plt\n",
    "import seaborn as sns"
   ]
  },
  {
   "cell_type": "code",
   "execution_count": 30,
   "metadata": {},
   "outputs": [],
   "source": [
    "client = MongoClient(host='localhost', port=27017)"
   ]
  },
  {
   "cell_type": "code",
   "execution_count": 31,
   "metadata": {},
   "outputs": [
    {
     "data": {
      "text/plain": [
       "['admin',\n",
       " 'config',\n",
       " 'local',\n",
       " 'marchmadness',\n",
       " 'music_tweets',\n",
       " 'mydb',\n",
       " 'new_db',\n",
       " 'tweets']"
      ]
     },
     "execution_count": 31,
     "metadata": {},
     "output_type": "execute_result"
    }
   ],
   "source": [
    "client.list_database_names()"
   ]
  },
  {
   "cell_type": "code",
   "execution_count": 37,
   "metadata": {},
   "outputs": [],
   "source": [
    "musicdb = client[\"music_tweets\"]"
   ]
  },
  {
   "cell_type": "code",
   "execution_count": 40,
   "metadata": {},
   "outputs": [],
   "source": [
    "kendricktweets = musicdb[\"kendrickLamar\"]"
   ]
  },
  {
   "cell_type": "code",
   "execution_count": 93,
   "metadata": {
    "scrolled": false
   },
   "outputs": [
    {
     "name": "stdout",
     "output_type": "stream",
     "text": [
      "finished 0 tweets\n",
      "finished 200 tweets\n",
      "finished 400 tweets\n",
      "finished 600 tweets\n",
      "finished 800 tweets\n",
      "finished 1000 tweets\n",
      "finished 1200 tweets\n",
      "finished 1400 tweets\n",
      "finished 1600 tweets\n"
     ]
    }
   ],
   "source": [
    "dlist = []\n",
    "for index, tweet in enumerate(kendricktweets.find({})): # select * from kendrickLamar;\n",
    "    d = dict()\n",
    "    d['text'] = tweet[\"text\"]\n",
    "    blob = TextBlob(text)\n",
    "    d['polarity'] = blob.sentiment.polarity\n",
    "    d['subjectivity'] = blob.sentiment.subjectivity\n",
    "    \n",
    "    source = tweet[\"source\"]\n",
    "    soup = BeautifulSoup(source, 'html.parser')\n",
    "    res = soup.find('a')\n",
    "    d[\"source\"] = res.contents[0]\n",
    "    \n",
    "    d['coor'] = tweet['coordinates']\n",
    "    d['location'] = tweet['user']['location']\n",
    "    if index%200 == 0:\n",
    "        print(\"finished {} tweets\".format(index))\n",
    "    dlist.append(d)"
   ]
  },
  {
   "cell_type": "code",
   "execution_count": 94,
   "metadata": {
    "scrolled": false
   },
   "outputs": [
    {
     "data": {
      "text/html": [
       "<div>\n",
       "<style scoped>\n",
       "    .dataframe tbody tr th:only-of-type {\n",
       "        vertical-align: middle;\n",
       "    }\n",
       "\n",
       "    .dataframe tbody tr th {\n",
       "        vertical-align: top;\n",
       "    }\n",
       "\n",
       "    .dataframe thead th {\n",
       "        text-align: right;\n",
       "    }\n",
       "</style>\n",
       "<table border=\"1\" class=\"dataframe\">\n",
       "  <thead>\n",
       "    <tr style=\"text-align: right;\">\n",
       "      <th></th>\n",
       "      <th>coor</th>\n",
       "      <th>location</th>\n",
       "      <th>polarity</th>\n",
       "      <th>source</th>\n",
       "      <th>subjectivity</th>\n",
       "      <th>text</th>\n",
       "    </tr>\n",
       "  </thead>\n",
       "  <tbody>\n",
       "    <tr>\n",
       "      <th>0</th>\n",
       "      <td>None</td>\n",
       "      <td>Indiana, USA</td>\n",
       "      <td>0.0</td>\n",
       "      <td>Radio.co now playing</td>\n",
       "      <td>0.0</td>\n",
       "      <td>Now Playing: Tech N9ne f. Kendall Morgan, Kend...</td>\n",
       "    </tr>\n",
       "    <tr>\n",
       "      <th>1</th>\n",
       "      <td>None</td>\n",
       "      <td>Why?</td>\n",
       "      <td>0.0</td>\n",
       "      <td>Twitter for iPhone</td>\n",
       "      <td>0.0</td>\n",
       "      <td>RT @Bj532x: امبي وايد حلوه 💔 https://t.co/2oDR...</td>\n",
       "    </tr>\n",
       "    <tr>\n",
       "      <th>2</th>\n",
       "      <td>None</td>\n",
       "      <td>None</td>\n",
       "      <td>0.0</td>\n",
       "      <td>Twitter for iPhone</td>\n",
       "      <td>0.0</td>\n",
       "      <td>@JayStephMD @kendricklamar Bitch can we win a ...</td>\n",
       "    </tr>\n",
       "    <tr>\n",
       "      <th>3</th>\n",
       "      <td>None</td>\n",
       "      <td>Nightosphere.</td>\n",
       "      <td>0.0</td>\n",
       "      <td>Twitter for iPhone</td>\n",
       "      <td>0.0</td>\n",
       "      <td>Well this is trash cause 4:44 &amp;amp; u missed W...</td>\n",
       "    </tr>\n",
       "    <tr>\n",
       "      <th>4</th>\n",
       "      <td>None</td>\n",
       "      <td>Jeno's smile</td>\n",
       "      <td>0.0</td>\n",
       "      <td>Twitter for Android</td>\n",
       "      <td>0.0</td>\n",
       "      <td>RT @archivelyric: pray for me - the weeknd ft....</td>\n",
       "    </tr>\n",
       "  </tbody>\n",
       "</table>\n",
       "</div>"
      ],
      "text/plain": [
       "   coor       location  polarity                source  subjectivity  \\\n",
       "0  None   Indiana, USA       0.0  Radio.co now playing           0.0   \n",
       "1  None           Why?       0.0    Twitter for iPhone           0.0   \n",
       "2  None           None       0.0    Twitter for iPhone           0.0   \n",
       "3  None  Nightosphere.       0.0    Twitter for iPhone           0.0   \n",
       "4  None   Jeno's smile       0.0   Twitter for Android           0.0   \n",
       "\n",
       "                                                text  \n",
       "0  Now Playing: Tech N9ne f. Kendall Morgan, Kend...  \n",
       "1  RT @Bj532x: امبي وايد حلوه 💔 https://t.co/2oDR...  \n",
       "2  @JayStephMD @kendricklamar Bitch can we win a ...  \n",
       "3  Well this is trash cause 4:44 &amp; u missed W...  \n",
       "4  RT @archivelyric: pray for me - the weeknd ft....  "
      ]
     },
     "execution_count": 94,
     "metadata": {},
     "output_type": "execute_result"
    }
   ],
   "source": [
    "df = pd.DataFrame(dlist)\n",
    "df.head()"
   ]
  },
  {
   "cell_type": "code",
   "execution_count": 95,
   "metadata": {},
   "outputs": [
    {
     "data": {
      "text/plain": [
       "New York, NY                     125\n",
       "Johannesburg, South Africa        21\n",
       "South Africa                      19\n",
       "Florida, USA                      18\n",
       "Nairobi, Kenya                    17\n",
       "Lagos, Nigeria                    16\n",
       "United States                     16\n",
       "Los Angeles, CA                   15\n",
       "Accra, Ghana                      11\n",
       "Paris, France                     11\n",
       "London, England                    8\n",
       "Houston, TX                        8\n",
       "Worldwide                          7\n",
       "Cork, Ireland                      6\n",
       "California, USA                    5\n",
       "Paris                              5\n",
       "Port Elizabeth, South Africa       5\n",
       "Chicago, IL                        5\n",
       "Michigan, USA                      5\n",
       "Nigeria                            5\n",
       "France                             5\n",
       "Nashville, TN                      5\n",
       "Miami, FL                          5\n",
       "Boston, MA                         4\n",
       "Dubai, United Arab Emirates        4\n",
       "United Kingdom                     4\n",
       "Warri                              4\n",
       "Kenya                              4\n",
       "hell                               4\n",
       "Durban, South Africa               4\n",
       "                                ... \n",
       "just ere init                      1\n",
       "Bahrain                            1\n",
       "wake and bake, tx                  1\n",
       "floor 555                          1\n",
       "{e}                                1\n",
       "~Rêveuse~                          1\n",
       "18                                 1\n",
       "Telford, Shropshire, UK            1\n",
       "Chapadão - Rio de Janeiro/RJ       1\n",
       "Hobbs, NM                          1\n",
       "Hollywood                          1\n",
       "Lagos City                         1\n",
       "Euphoria                           1\n",
       "cloud9                             1\n",
       "Dunder-Mifflin                     1\n",
       "Saskatoon, Saskatchewan            1\n",
       "Maryland to Houston                1\n",
       "George Mason, VA                   1\n",
       "Middle east                        1\n",
       "Paris, France.                     1\n",
       "Nairobi || Kenya ya bish           1\n",
       "롤플레이어 | Lahomie                    1\n",
       "west                               1\n",
       "Lekki, Nigeria                     1\n",
       "Baden-Württemberg, Germany         1\n",
       "Why?                               1\n",
       "sweden                             1\n",
       "Siete siete                        1\n",
       "All up in this place               1\n",
       "Kiev, Ukraine                      1\n",
       "Name: location, Length: 852, dtype: int64"
      ]
     },
     "execution_count": 95,
     "metadata": {},
     "output_type": "execute_result"
    }
   ],
   "source": [
    "df.location.value_counts()"
   ]
  },
  {
   "cell_type": "code",
   "execution_count": 65,
   "metadata": {},
   "outputs": [
    {
     "data": {
      "text/plain": [
       "'abcdefghijklmnopqrstuvwxyzABCDEFGHIJKLMNOPQRSTUVWXYZ'"
      ]
     },
     "execution_count": 65,
     "metadata": {},
     "output_type": "execute_result"
    }
   ],
   "source": [
    "from string import ascii_letters\n",
    "ascii_letters"
   ]
  },
  {
   "cell_type": "code",
   "execution_count": 67,
   "metadata": {},
   "outputs": [
    {
     "data": {
      "text/plain": [
       "False"
      ]
     },
     "execution_count": 67,
     "metadata": {},
     "output_type": "execute_result"
    }
   ],
   "source": [
    "all(ch in ascii_letters for ch in df.text[0])"
   ]
  },
  {
   "cell_type": "code",
   "execution_count": 88,
   "metadata": {},
   "outputs": [
    {
     "name": "stdout",
     "output_type": "stream",
     "text": [
      "{'_id': ObjectId('5c55441d26596444e00f9b3b'),\n",
      " 'contributors': None,\n",
      " 'coordinates': None,\n",
      " 'created_at': 'Sat Feb 02 07:17:43 +0000 2019',\n",
      " 'entities': {'hashtags': [{'indices': [108, 116], 'text': 'GetLive'},\n",
      "                           {'indices': [118, 138],\n",
      "                            'text': 'GetLiveMediaNetwork'}],\n",
      "              'symbols': [],\n",
      "              'urls': [],\n",
      "              'user_mentions': [{'id': 776128881107558401,\n",
      "                                 'id_str': '776128881107558401',\n",
      "                                 'indices': [97, 107],\n",
      "                                 'name': '7Six5Live Radio',\n",
      "                                 'screen_name': '7Six5Live'}]},\n",
      " 'favorite_count': 0,\n",
      " 'favorited': False,\n",
      " 'filter_level': 'low',\n",
      " 'geo': None,\n",
      " 'id': 1091596511681630208,\n",
      " 'id_str': '1091596511681630208',\n",
      " 'in_reply_to_screen_name': None,\n",
      " 'in_reply_to_status_id': None,\n",
      " 'in_reply_to_status_id_str': None,\n",
      " 'in_reply_to_user_id': None,\n",
      " 'in_reply_to_user_id_str': None,\n",
      " 'is_quote_status': False,\n",
      " 'lang': 'en',\n",
      " 'place': None,\n",
      " 'quote_count': 0,\n",
      " 'reply_count': 0,\n",
      " 'retweet_count': 0,\n",
      " 'retweeted': False,\n",
      " 'source': '<a href=\"https://radio.co\" rel=\"nofollow\">Radio.co now playing</a>',\n",
      " 'text': 'Now Playing: Tech N9ne f. Kendall Morgan, Kendrick Lamar &amp; '\n",
      "         'Mayday! - Fragile (Radio Edit) on @7Six5Live #GetLive  '\n",
      "         '#GetLiveMediaNetwork',\n",
      " 'timestamp_ms': '1549091863924',\n",
      " 'truncated': False,\n",
      " 'user': {'contributors_enabled': False,\n",
      "          'created_at': 'Wed Sep 14 18:41:59 +0000 2016',\n",
      "          'default_profile': False,\n",
      "          'default_profile_image': False,\n",
      "          'description': '7Six5 Live is a mobile streaming radio station and '\n",
      "                         'app playing Hip-Hop/Rap, R&B, EDM & Urban Pop music! '\n",
      "                         'http://7Six5Live.com',\n",
      "          'favourites_count': 161,\n",
      "          'follow_request_sent': None,\n",
      "          'followers_count': 526,\n",
      "          'following': None,\n",
      "          'friends_count': 201,\n",
      "          'geo_enabled': False,\n",
      "          'id': 776128881107558401,\n",
      "          'id_str': '776128881107558401',\n",
      "          'is_translator': False,\n",
      "          'lang': 'en',\n",
      "          'listed_count': 7,\n",
      "          'location': 'Indiana, USA',\n",
      "          'name': '7Six5Live Radio',\n",
      "          'notifications': None,\n",
      "          'profile_background_color': '000000',\n",
      "          'profile_background_image_url': 'http://abs.twimg.com/images/themes/theme1/bg.png',\n",
      "          'profile_background_image_url_https': 'https://abs.twimg.com/images/themes/theme1/bg.png',\n",
      "          'profile_background_tile': False,\n",
      "          'profile_banner_url': 'https://pbs.twimg.com/profile_banners/776128881107558401/1483569311',\n",
      "          'profile_image_url': 'http://pbs.twimg.com/profile_images/816774823556870144/d8OcnUcX_normal.jpg',\n",
      "          'profile_image_url_https': 'https://pbs.twimg.com/profile_images/816774823556870144/d8OcnUcX_normal.jpg',\n",
      "          'profile_link_color': 'FF691F',\n",
      "          'profile_sidebar_border_color': '000000',\n",
      "          'profile_sidebar_fill_color': '000000',\n",
      "          'profile_text_color': '000000',\n",
      "          'profile_use_background_image': False,\n",
      "          'protected': False,\n",
      "          'screen_name': '7Six5Live',\n",
      "          'statuses_count': 176093,\n",
      "          'time_zone': None,\n",
      "          'translator_type': 'none',\n",
      "          'url': 'http://7six5live.com',\n",
      "          'utc_offset': None,\n",
      "          'verified': False}}\n"
     ]
    }
   ],
   "source": [
    "for index, tweet in enumerate(kendricktweets.find({}, limit=5)): # select * from kendrickLamar;\n",
    "    pprint(tweet)\n",
    "    break"
   ]
  },
  {
   "cell_type": "markdown",
   "metadata": {},
   "source": [
    "### Assessment"
   ]
  }
 ],
 "metadata": {
  "kernelspec": {
   "display_name": "Python 3",
   "language": "python",
   "name": "python3"
  },
  "language_info": {
   "codemirror_mode": {
    "name": "ipython",
    "version": 3
   },
   "file_extension": ".py",
   "mimetype": "text/x-python",
   "name": "python",
   "nbconvert_exporter": "python",
   "pygments_lexer": "ipython3",
   "version": "3.6.4"
  }
 },
 "nbformat": 4,
 "nbformat_minor": 2
}
